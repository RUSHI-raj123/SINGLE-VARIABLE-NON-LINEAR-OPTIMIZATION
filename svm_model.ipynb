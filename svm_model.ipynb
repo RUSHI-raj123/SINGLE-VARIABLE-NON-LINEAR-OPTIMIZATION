{
  "nbformat": 4,
  "nbformat_minor": 0,
  "metadata": {
    "colab": {
      "provenance": [],
      "authorship_tag": "ABX9TyMjPjWT5uPAqlJSiouzgFEw",
      "include_colab_link": true
    },
    "kernelspec": {
      "name": "python3",
      "display_name": "Python 3"
    },
    "language_info": {
      "name": "python"
    }
  },
  "cells": [
    {
      "cell_type": "markdown",
      "metadata": {
        "id": "view-in-github",
        "colab_type": "text"
      },
      "source": [
        "<a href=\"https://colab.research.google.com/github/RUSHI-raj123/SINGLE-VARIABLE-NON-LINEAR-OPTIMIZATION/blob/main/svm_model.ipynb\" target=\"_parent\"><img src=\"https://colab.research.google.com/assets/colab-badge.svg\" alt=\"Open In Colab\"/></a>"
      ]
    },
    {
      "cell_type": "code",
      "execution_count": null,
      "metadata": {
        "id": "81Q8FmEvgWWM"
      },
      "outputs": [],
      "source": [
        "import pandas as pd\n",
        "from sklearn.model_selection import train_test_split\n",
        "from sklearn.svm import SVC\n",
        "from sklearn.metrics import accuracy_score, classification_report\n",
        "\n",
        "# Creating the dataset\n",
        "data = {\n",
        "    'Outlook':  [2, 2, 0, 1, 1, 0, 2, 2, 1, 2, 0, 0, 1],\n",
        "    'Temp':     [1, 1, 1, 2, 0, 0, 2, 0, 2, 2, 2, 1, 2],\n",
        "    'Humidity': [0, 0, 0, 0, 1, 1, 0, 1, 1, 1, 0, 1, 0],\n",
        "    'Wind':     [1, 0, 1, 1, 0, 0, 1, 1, 1, 0, 0, 1, 0],\n",
        "    'Play':     [0, 0, 1, 1, 0, 1, 0, 1, 1, 1, 1, 1, 0]\n",
        "}\n",
        "\n",
        "# Convert to DataFrame\n",
        "df = pd.DataFrame(data)\n",
        "\n",
        "# Split features and target\n",
        "X = df.drop('Play', axis=1)\n",
        "y = df['Play']\n",
        "\n",
        "# Split into training and testing sets\n",
        "X_train, X_test, y_train, y_test = train_test_split(X, y, test_size=0.2, random_state=42)\n",
        "\n",
        "# Build SVM model\n",
        "model = SVC(kernel='linear')  # You can also try 'rbf' or 'poly'\n",
        "model.fit(X_train, y_train)\n",
        "\n",
        "# Predictions\n",
        "y_pred = model.predict(X_test)\n",
        "\n",
        "# Evaluation\n",
        "print(\"Accuracy:\", accuracy_score(y_test, y_pred))\n",
        "print(\"\\nClassification Report:\\n\", classification_report(y_test, y_pred))\n"
      ]
    }
  ]
}