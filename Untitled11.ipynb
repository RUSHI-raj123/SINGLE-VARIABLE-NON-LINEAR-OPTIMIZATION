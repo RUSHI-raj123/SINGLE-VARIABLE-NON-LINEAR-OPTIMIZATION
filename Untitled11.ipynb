{
  "nbformat": 4,
  "nbformat_minor": 0,
  "metadata": {
    "colab": {
      "provenance": [],
      "authorship_tag": "ABX9TyMiofWpAH7tknZ3RkvzYjVt",
      "include_colab_link": true
    },
    "kernelspec": {
      "name": "python3",
      "display_name": "Python 3"
    },
    "language_info": {
      "name": "python"
    }
  },
  "cells": [
    {
      "cell_type": "markdown",
      "metadata": {
        "id": "view-in-github",
        "colab_type": "text"
      },
      "source": [
        "<a href=\"https://colab.research.google.com/github/RUSHI-raj123/SINGLE-VARIABLE-NON-LINEAR-OPTIMIZATION/blob/main/Untitled11.ipynb\" target=\"_parent\"><img src=\"https://colab.research.google.com/assets/colab-badge.svg\" alt=\"Open In Colab\"/></a>"
      ]
    },
    {
      "cell_type": "code",
      "execution_count": null,
      "metadata": {
        "id": "ChlJE3E1Urly"
      },
      "outputs": [],
      "source": [
        "import random\n",
        "\n",
        "# Given dataset\n",
        "X = [0.1, 0.2, 0.3, 0.4, 0.5, 0.6, 0.7, 0.9, 0.8]\n",
        "Y = [3.3, 3.6, 3.9, 4.2, 4.5, 4.8, 5.1, 5.7, 5.4]\n",
        "\n",
        "\n"
      ]
    }
  ]
}