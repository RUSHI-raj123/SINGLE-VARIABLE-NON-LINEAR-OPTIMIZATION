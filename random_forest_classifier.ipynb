{
  "nbformat": 4,
  "nbformat_minor": 0,
  "metadata": {
    "colab": {
      "provenance": [],
      "authorship_tag": "ABX9TyM6KYg2ADCuqaWu4RZXn2Ru",
      "include_colab_link": true
    },
    "kernelspec": {
      "name": "python3",
      "display_name": "Python 3"
    },
    "language_info": {
      "name": "python"
    }
  },
  "cells": [
    {
      "cell_type": "markdown",
      "metadata": {
        "id": "view-in-github",
        "colab_type": "text"
      },
      "source": [
        "<a href=\"https://colab.research.google.com/github/RUSHI-raj123/SINGLE-VARIABLE-NON-LINEAR-OPTIMIZATION/blob/main/random_forest_classifier.ipynb\" target=\"_parent\"><img src=\"https://colab.research.google.com/assets/colab-badge.svg\" alt=\"Open In Colab\"/></a>"
      ]
    },
    {
      "cell_type": "code",
      "execution_count": null,
      "metadata": {
        "id": "cgvEuoG8C7SZ"
      },
      "outputs": [],
      "source": [
        "import pandas as pd\n",
        "from sklearn.ensemble import RandomForestClassifier\n",
        "from sklearn.model_selection import train_test_split\n",
        "from sklearn.metrics import accuracy_score\n",
        "\n",
        "# Step 1: Input data (from your screenshot)\n",
        "data = [\n",
        "    [2,1,0,1,0],\n",
        "    [2,1,0,0,0],\n",
        "    [0,1,0,1,1],\n",
        "    [1,2,0,1,1],\n",
        "    [1,0,1,1,1],\n",
        "    [1,0,1,0,0],\n",
        "    [0,0,1,0,0],\n",
        "    [2,2,0,1,0],\n",
        "    [2,0,1,1,1],\n",
        "    [1,2,1,1,1],\n",
        "    [2,2,1,0,1],\n",
        "    [0,2,0,0,1],\n",
        "    [0,1,1,1,1],\n",
        "    [1,2,0,0,0]\n",
        "]\n",
        "\n",
        "# Step 2: Convert to DataFrame\n",
        "columns = ['Outlook', 'Temp', 'Humidity', 'Wind', 'Play']\n",
        "df = pd.DataFrame(data, columns=columns)\n",
        "\n",
        "# Step 3: Separate features and labels\n",
        "X = df[['Outlook', 'Temp', 'Humidity', 'Wind']]\n",
        "y = df['Play']\n",
        "\n",
        "# Step 4: Split dataset\n",
        "X_train, X_test, y_train, y_test = train_test_split(X, y, test_size=0.3, random_state=42)\n",
        "\n",
        "# Step 5: Train Random Forest model\n",
        "model = RandomForestClassifier(n_estimators=100, random_state=42)\n",
        "model.fit(X_train, y_train)\n",
        "\n",
        "# Step 6: Predict and evaluate\n",
        "y_pred = model.predict(X_test)\n",
        "print(\"Accuracy:\", accuracy_score(y_test, y_pred))\n",
        "\n",
        "# Optional: Predict for new input\n",
        "new_data = [[2, 1, 0, 1]]  # Sample input\n",
        "prediction = model.predict(new_data)\n",
        "print(\"Play Tennis?\" , \"Yes\" if prediction[0] == 1 else \"No\")\n"
      ]
    }
  ]
}