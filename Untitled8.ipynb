{
  "nbformat": 4,
  "nbformat_minor": 0,
  "metadata": {
    "colab": {
      "provenance": [],
      "authorship_tag": "ABX9TyNi2J+Rv1BkpFs+K7igrzUj",
      "include_colab_link": true
    },
    "kernelspec": {
      "name": "python3",
      "display_name": "Python 3"
    },
    "language_info": {
      "name": "python"
    }
  },
  "cells": [
    {
      "cell_type": "markdown",
      "metadata": {
        "id": "view-in-github",
        "colab_type": "text"
      },
      "source": [
        "<a href=\"https://colab.research.google.com/github/RUSHI-raj123/SINGLE-VARIABLE-NON-LINEAR-OPTIMIZATION/blob/main/Untitled8.ipynb\" target=\"_parent\"><img src=\"https://colab.research.google.com/assets/colab-badge.svg\" alt=\"Open In Colab\"/></a>"
      ]
    },
    {
      "cell_type": "code",
      "execution_count": null,
      "metadata": {
        "id": "QUKuteIhGgE_"
      },
      "outputs": [],
      "source": [
        "import numpy as np\n",
        "from scipy.optimize import minimize\n",
        "\n",
        "# Define the function\n",
        "def f(params):\n",
        "    x, y = params\n",
        "    return 3 * x**2 + 5 * np.exp(-y) + 10\n",
        "\n",
        "# Initial guess\n",
        "x0 = np.array([1.0, 1.0])\n",
        "\n",
        "# Minimize the function\n",
        "result = minimize(f, x0, method='BFGS')\n",
        "\n",
        "# Print the result\n",
        "print(\"Optimal (x, y):\", result.x)\n",
        "print(\"Minimum value:\", result.fun)"
      ]
    }
  ]
}