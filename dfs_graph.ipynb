{
  "nbformat": 4,
  "nbformat_minor": 0,
  "metadata": {
    "colab": {
      "provenance": [],
      "authorship_tag": "ABX9TyMwr6gb9mzT4wjqTQzsJToe",
      "include_colab_link": true
    },
    "kernelspec": {
      "name": "python3",
      "display_name": "Python 3"
    },
    "language_info": {
      "name": "python"
    }
  },
  "cells": [
    {
      "cell_type": "markdown",
      "metadata": {
        "id": "view-in-github",
        "colab_type": "text"
      },
      "source": [
        "<a href=\"https://colab.research.google.com/github/RUSHI-raj123/SINGLE-VARIABLE-NON-LINEAR-OPTIMIZATION/blob/main/dfs_graph.ipynb\" target=\"_parent\"><img src=\"https://colab.research.google.com/assets/colab-badge.svg\" alt=\"Open In Colab\"/></a>"
      ]
    },
    {
      "cell_type": "code",
      "execution_count": null,
      "metadata": {
        "id": "QCmE1kwH5LCN"
      },
      "outputs": [],
      "source": [
        "Graph Edges:\n",
        "0 — 1\n",
        "0 — 2\n",
        "0 — 3\n",
        "2 — 4\n",
        "2 — 1\n",
        "\n",
        "graph = {\n",
        "    0: [1, 2, 3],\n",
        "    1: [0, 2],\n",
        "    2: [0, 1, 4],\n",
        "    3: [0],\n",
        "    4: [2]\n",
        "}\n",
        "\n",
        "\n",
        "def dfs(graph, start, visited=None):\n",
        "    if visited is None:\n",
        "        visited = set()\n",
        "\n",
        "    visited.add(start)\n",
        "    print(start, end=' ')\n",
        "\n",
        "    for neighbor in graph[start]:\n",
        "        if neighbor not in visited:\n",
        "            dfs(graph, neighbor, visited)\n",
        "\n",
        "print(\"DFS Traversal starting from node 0:\")\n",
        "dfs(graph, 0)\n"
      ]
    }
  ]
}